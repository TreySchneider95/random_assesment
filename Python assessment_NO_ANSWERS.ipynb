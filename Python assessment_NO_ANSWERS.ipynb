{
 "cells": [
  {
   "cell_type": "markdown",
   "metadata": {},
   "source": [
    "<a href=\"https://codeimmersives.com\"><img src = \"https://www.codeimmersives.com/wp-content/uploads/2019/09/CodeImmersives_Logo_RGB_NYC_BW.png\" width = 400> </a>\n",
    "\n",
    "\n",
    "<h1 align=center><font size = 5>Python Assessment</font></h1>"
   ]
  },
  {
   "cell_type": "markdown",
   "metadata": {},
   "source": [
    "### \n",
    "<div class=\"alert alert-block alert-info\" style=\"margin-top: 20px\">\n",
    "\n",
    "1.  [Exercise 1](#0)<br>\n",
    "2.  [Exercise 2](#2)<br> \n",
    "3.  [Exercise 3](#4)<br>   \n",
    "4.  [Exercise 4](#6)<br> \n",
    "5.  [Exercise 5](#8)<br> \n",
    "6.  [Exercise 6](#10)<br>\n",
    "7.  [Exercise 7](#12)<br> \n",
    "8.  [Exercise 8](#14)<br>   \n",
    "9.  [Exercise 9](#16)<br> \n",
    "</div>\n",
    "<hr>"
   ]
  },
  {
   "cell_type": "markdown",
   "metadata": {},
   "source": [
    "<h2 #0>Exercise 1</h2><a id=\"0\"></a>\n",
    "<code>\n",
    "purchases = {'2021-01-01': \n",
    "                 {'item-001': \n",
    "                      {'name': 'Alka Seltzer'},\n",
    "                 'item-002': \n",
    "                      {'name': 'Rolaids'},\n",
    "                 'item-003': \n",
    "                      {'name': 'Orange juice'}  }                \n",
    "            }\n",
    "</code>\n",
    "<br>\n",
    "<h4>List all of the names of items purchased</h4>"
   ]
  },
  {
   "cell_type": "code",
   "execution_count": 28,
   "metadata": {},
   "outputs": [
    {
     "name": "stdout",
     "output_type": "stream",
     "text": [
      "Alka Seltzer\n",
      "Rolaids\n",
      "Orange juice\n"
     ]
    }
   ],
   "source": [
    "purchases = {'2021-01-01': \n",
    "                 {'item-001': \n",
    "                      {'name': 'Alka Seltzer'},\n",
    "                 'item-002': \n",
    "                      {'name': 'Rolaids'},\n",
    "                 'item-003': \n",
    "                      {'name': 'Orange juice'}  }                \n",
    "            }\n",
    "for year, item_id in purchases.items():\n",
    "    for item_id, name in item_id.items():\n",
    "        for key, value in name.items():\n",
    "            print(value)"
   ]
  },
  {
   "cell_type": "markdown",
   "metadata": {},
   "source": [
    "<h2>Exercise 2</h2><a id=\"2\"></a>\n",
    "<code>\n",
    "purchases = {'2021-01-01': \n",
    "                 {'item-001': \n",
    "                      {'name': 'Alka Seltzer'},\n",
    "                 'item-002': \n",
    "                      {'name': 'Rolaids'},\n",
    "                 'item-003': \n",
    "                      {'name': 'Orange juice'}  }                \n",
    "            }\n",
    "</code>\n",
    "<br>\n",
    "1 - Add a 4th item with a key of 'item-004' and name of 'Bloody Mary'<br>\n",
    "2 - Add a 5th item with a key of 'item-005' and name of 'Pineapple Juice'<br>\n",
    "3 - print all item names purchased<br>\n",
    "4 - print all juice items"
   ]
  },
  {
   "cell_type": "code",
   "execution_count": 38,
   "metadata": {},
   "outputs": [
    {
     "name": "stdout",
     "output_type": "stream",
     "text": [
      "====================\n",
      "item names purchased\n",
      "====================\n",
      "Alka Seltzer\n",
      "Rolaids\n",
      "Orange juice\n",
      "Bloody Mary\n",
      "Pineapple Juice\n",
      "====================\n",
      "all juice items\n",
      "====================\n",
      "Orange juice\n",
      "Pineapple Juice\n"
     ]
    }
   ],
   "source": [
    "purchases = {'2021-01-01': \n",
    "                 {'item-001': \n",
    "                      {'name': 'Alka Seltzer'},\n",
    "                 'item-002': \n",
    "                      {'name': 'Rolaids'},\n",
    "                 'item-003': \n",
    "                      {'name': 'Orange juice'}  }                \n",
    "            }\n",
    "purchases['2021-01-01']['item-004'] = {'name': 'Bloody Mary'}\n",
    "purchases['2021-01-01']['item-005'] = {'name': 'Pineapple Juice'}\n",
    "print('='*20)\n",
    "print('item names purchased')\n",
    "print('='*20)\n",
    "for year, item_id in purchases.items():\n",
    "    for item_id, name in item_id.items():\n",
    "        for key, value in name.items():\n",
    "            print(value)\n",
    "print('='*20)\n",
    "print('all juice items')\n",
    "print('='*20)\n",
    "for year, item_id in purchases.items():\n",
    "    for item_id, name in item_id.items():\n",
    "        for key, value in name.items():\n",
    "            if 'juice' in value.lower():\n",
    "                print(value)"
   ]
  },
  {
   "cell_type": "markdown",
   "metadata": {},
   "source": [
    "<h2>Exercise 3</h2><a id=\"4\"></a>\n",
    "<code>\n",
    "items = ['Alka Seltzer', 'Rolaids', 'Orange juice', 'Bloody Mary', 'Pineapple Juice']\n",
    "</code>\n",
    "<br>\n",
    "1 - Randomly pick 3 items out of the list using iteration and name it basket1 - WITHOUT REPLACEMENT<br>\n",
    "2a - Randomly pick 3 items out of the list using iteration and name it basket2 - WITH REPLACEMENT<br>\n",
    "2b - List the items remaining in the basket"
   ]
  },
  {
   "cell_type": "code",
   "execution_count": 76,
   "metadata": {},
   "outputs": [
    {
     "name": "stdout",
     "output_type": "stream",
     "text": [
      "[0, 1, 2]\n",
      "['Alka Seltzer', 'Rolaids', 'Orange juice']\n",
      "['Alka Seltzer', 'Rolaids', 'Orange juice', 'Bloody Mary', 'Pineapple Juice']\n",
      "['Alka Seltzer', 'Rolaids', 'Orange juice']\n",
      "['Bloody Mary', 'Pineapple Juice']\n"
     ]
    }
   ],
   "source": [
    "import random\n",
    "items = ['Alka Seltzer', 'Rolaids', 'Orange juice', 'Bloody Mary', 'Pineapple Juice']\n",
    "randomlist = random.sample(range(0, 5), 3)\n",
    "print(randomlist)\n",
    "without_replacement = []\n",
    "for x in randomlist:\n",
    "    without_replacement.append(items[x])\n",
    "print(without_replacement)\n",
    "print(items)\n",
    "with_replacement = []\n",
    "counter = 0\n",
    "for x in randomlist:\n",
    "    x = x - counter\n",
    "    with_replacement.append(items[x])\n",
    "    del items[x]\n",
    "    counter += 1\n",
    "print(with_replacement)\n",
    "print(items)"
   ]
  },
  {
   "cell_type": "markdown",
   "metadata": {},
   "source": [
    "<h2>Exercise 4</h2><a id=\"6\"></a>\n",
    "From the numbers 1 through 120 pick all numbers that are divisible by 3 and 5"
   ]
  },
  {
   "cell_type": "code",
   "execution_count": 41,
   "metadata": {},
   "outputs": [
    {
     "name": "stdout",
     "output_type": "stream",
     "text": [
      "0\n",
      "15\n",
      "30\n",
      "45\n",
      "60\n",
      "75\n",
      "90\n",
      "105\n",
      "120\n"
     ]
    }
   ],
   "source": [
    "def divisable():\n",
    "    for x in range(121):\n",
    "        if x % 3 == 0 and x % 5 == 0:\n",
    "            print(x)\n",
    "divisable()"
   ]
  },
  {
   "cell_type": "markdown",
   "metadata": {},
   "source": [
    "<h2>Exercise 5</h2><a id=\"8\"></a>\n",
    "From the numbers 1 through 300 pick all numbers that the sum of the digits are divisible by 9<br>\n",
    "For example the number 261 if we add the digits 2 + 6 + 1 = 9"
   ]
  },
  {
   "cell_type": "code",
   "execution_count": 5,
   "metadata": {},
   "outputs": [],
   "source": []
  },
  {
   "cell_type": "markdown",
   "metadata": {},
   "source": [
    "<h2>Exercise 6</h2><a id=\"10\"></a>\n",
    "<code>\n",
    "numbers = [2,7,9,12,15,3,11,22,17,6,0,-8]\n",
    "</code><br>\n",
    "List all 2 number combinations that add up to 9<br>\n",
    "List all 2 number permutations that add up to 9<br>"
   ]
  },
  {
   "cell_type": "code",
   "execution_count": 6,
   "metadata": {},
   "outputs": [],
   "source": [
    "# Your code here"
   ]
  },
  {
   "cell_type": "markdown",
   "metadata": {},
   "source": [
    "<h2>Exercise 7</h2><a id=\"22\"></a>\n",
    "<code>\n",
    "list_1 = ['chair','stools','dresser','picture frame']\n",
    "list_2 = ['mirror','rug','tv stand','chair','dresser']\n",
    "</code><br>\n",
    "1 - Print an unduplicated list of all items in both lists (union)<br>\n",
    "2 - Which items are duplicated in each list (intersection)"
   ]
  },
  {
   "cell_type": "code",
   "execution_count": 7,
   "metadata": {},
   "outputs": [],
   "source": [
    "# Your code here"
   ]
  },
  {
   "cell_type": "markdown",
   "metadata": {},
   "source": [
    "<h2>Exercise 8</h2><a id=\"14\"></a>\n",
    "Create a simulated deck of cards as a list <br>"
   ]
  },
  {
   "cell_type": "code",
   "execution_count": 8,
   "metadata": {},
   "outputs": [],
   "source": [
    "# Your code here"
   ]
  },
  {
   "cell_type": "markdown",
   "metadata": {},
   "source": [
    "<h2>Exercise 9</h2><a id=\"16\"></a>\n",
    "a - Recreate a simulated deck of cards as a dictionary where the key is the name<br>\n",
    "and the value is the value of the card.  Remember the Ace can be a 1 or 11<br>\n",
    "b - Deal 3 players (player_1, player_2, player_3) 2 cards and determine who has the higher amount<br>\n",
    "NOTE: Deal with the fact the Ace returns a tuple take the higher amount for now"
   ]
  },
  {
   "cell_type": "code",
   "execution_count": 9,
   "metadata": {},
   "outputs": [],
   "source": [
    "# Your code here"
   ]
  },
  {
   "cell_type": "markdown",
   "metadata": {},
   "source": [
    "This notebook is part of a python assessment for a knowledge check for a course at www.codeimmersives.com . If you accessed this notebook outside the course, you can get more information about this course online by \n",
    "clicking [here](https://www.codeimmersives.com/programs/python-aws/)."
   ]
  },
  {
   "cell_type": "markdown",
   "metadata": {},
   "source": [
    "<hr>\n",
    "\n",
    "Copyright &copy; 2021  Code Immersives"
   ]
  }
 ],
 "metadata": {
  "kernelspec": {
   "display_name": "Python 3",
   "language": "python",
   "name": "python3"
  },
  "language_info": {
   "codemirror_mode": {
    "name": "ipython",
    "version": 3
   },
   "file_extension": ".py",
   "mimetype": "text/x-python",
   "name": "python",
   "nbconvert_exporter": "python",
   "pygments_lexer": "ipython3",
   "version": "3.8.5"
  }
 },
 "nbformat": 4,
 "nbformat_minor": 4
}
